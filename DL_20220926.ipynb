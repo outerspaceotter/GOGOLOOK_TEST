{
  "nbformat": 4,
  "nbformat_minor": 0,
  "metadata": {
    "colab": {
      "provenance": [],
      "collapsed_sections": [],
      "authorship_tag": "ABX9TyPq8eXwaKmcns0hiDk/Y8A+",
      "include_colab_link": true
    },
    "kernelspec": {
      "name": "python3",
      "display_name": "Python 3"
    },
    "language_info": {
      "name": "python"
    }
  },
  "cells": [
    {
      "cell_type": "markdown",
      "metadata": {
        "id": "view-in-github",
        "colab_type": "text"
      },
      "source": [
        "<a href=\"https://colab.research.google.com/github/outerspaceotter/GOGOLOOK_TEST/blob/master/DL_20220926.ipynb\" target=\"_parent\"><img src=\"https://colab.research.google.com/assets/colab-badge.svg\" alt=\"Open In Colab\"/></a>"
      ]
    },
    {
      "cell_type": "markdown",
      "source": [
        "周凡剛 Elwing  \n",
        "birdfan8814@gmail.com  \n",
        "FB:Fan-Gan Chou\n",
        "\n",
        "AI:讓電腦=人  \n",
        "人的思考方式 1.邏輯：有公式  2.經驗：統計學(沒有公式 或是 有規則但無法完全列出來)  \n",
        "AI就是統計學  \n",
        "機器學習:傳統統計(表格)  \n",
        "深度學習:(模仿)神經網路(處理抽象類型的資料:圖像 聲音 影像…)\n",
        "\n",
        "dall.e  \n",
        "midjourney\n",
        "\n",
        "GPU : 顯示卡效能\n",
        "\n",
        "python 3.10 & pycharm"
      ],
      "metadata": {
        "id": "M0YslgMak4Ph"
      }
    },
    {
      "cell_type": "markdown",
      "source": [
        "# Markdown語法\n",
        "# Latex Math語法 方便打數學符號\n",
        "$ 面積 = \\frac{1}{2}\\pi r^2 $\n",
        "\n",
        "github:https://github.com/Elwing-Chou/ximen0926\n",
        "\n",
        "機器學習 1.資料 2.演算法\n",
        "資料分兩部分 : 訓練train 驗證test/validation\n",
        "1訓練組 2.藉由演算法 3.得到模型 4.由另一組資料驗證且調整參數 5.發布/布署\n",
        "\n",
        "Data: \n",
        "1.input \n",
        "2.output:\n",
        "  1.選擇題(分類):classification e.g. 貓/狗 梵谷/莫內\n",
        "  2.計算題(回歸問題):regression e.g. 房價/股價/幾歲\n",
        "  3.無標註答案的選擇題(分群):cluster 依照題目的相似度分成幾群 e.g. 穿衣風格/人種臉型 ps.ML有分群 DL沒有分群\n",
        "\n",
        "ML:千-萬筆以上比較合理\n",
        "DL:萬-十萬筆以上比較合理\n",
        "depends on : 問題難度, 問題越難需要越多(欄位個數)"
      ],
      "metadata": {
        "id": "9wjDuqTIlqg6"
      }
    },
    {
      "cell_type": "markdown",
      "source": [
        "決策樹\n"
      ],
      "metadata": {
        "id": "dT2gTYkr-hXU"
      }
    }
  ]
}