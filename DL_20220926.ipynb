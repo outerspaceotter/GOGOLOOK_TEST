{
  "nbformat": 4,
  "nbformat_minor": 0,
  "metadata": {
    "colab": {
      "provenance": [],
      "collapsed_sections": [],
      "authorship_tag": "ABX9TyM7n0pfpUnDpIYooIoOX5Cd",
      "include_colab_link": true
    },
    "kernelspec": {
      "name": "python3",
      "display_name": "Python 3"
    },
    "language_info": {
      "name": "python"
    }
  },
  "cells": [
    {
      "cell_type": "markdown",
      "metadata": {
        "id": "view-in-github",
        "colab_type": "text"
      },
      "source": [
        "<a href=\"https://colab.research.google.com/github/outerspaceotter/GOGOLOOK_TEST/blob/master/DL_20220926.ipynb\" target=\"_parent\"><img src=\"https://colab.research.google.com/assets/colab-badge.svg\" alt=\"Open In Colab\"/></a>"
      ]
    },
    {
      "cell_type": "markdown",
      "source": [
        "# Markdown語法\n",
        "# Latex Math語法 方便打數學符號\n",
        "$ 面積 = \\frac{1}{2}\\pi r^2 $\n",
        "\n",
        "github:https://github.com/Elwing-Chou/ximen0926\n",
        "\n",
        "機器學習 1.資料 2.演算法\n",
        "資料分兩部分 : 訓練train 驗證test/validation\n",
        "1訓練組 2.藉由演算法 3.得到模型 4.由另一組資料驗證且調整參數 5.發布/布署\n",
        "\n",
        "Data: \n",
        "1.input \n",
        "2.output:\n",
        "  1.選擇題(分類):classification e.g. 貓/狗 梵谷/莫內\n",
        "  2.計算題(回歸問題):regression e.g. 房價/股價/幾歲\n",
        "  3.無標註答案的選擇題(分群):cluster 依照題目的相似度分成幾群 e.g. 穿衣風格/人種臉型 ps.ML有分群 DL沒有分群\n",
        "\n",
        "ML:千-萬筆以上比較合理\n",
        "DL:萬-十萬筆以上比較合理\n",
        "depends on : 問題難度, 問題越難需要越多(欄位個數)"
      ],
      "metadata": {
        "id": "9wjDuqTIlqg6"
      }
    },
    {
      "cell_type": "code",
      "execution_count": null,
      "metadata": {
        "id": "dBzxFwQUkqlV",
        "colab": {
          "base_uri": "https://localhost:8080/"
        },
        "outputId": "7185c1da-04a7-4253-bd1d-19129fdbbddc"
      },
      "outputs": [
        {
          "output_type": "stream",
          "name": "stdout",
          "text": [
            "hello colab\n"
          ]
        }
      ],
      "source": [
        "print(\"hello colab\")"
      ]
    },
    {
      "cell_type": "code",
      "source": [],
      "metadata": {
        "id": "daP7xf4alq_K"
      },
      "execution_count": null,
      "outputs": []
    }
  ]
}