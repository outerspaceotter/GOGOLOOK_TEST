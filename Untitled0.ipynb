{
  "nbformat": 4,
  "nbformat_minor": 0,
  "metadata": {
    "colab": {
      "provenance": [],
      "collapsed_sections": [],
      "authorship_tag": "ABX9TyMaKZGueOWDnRDvI0a8z+6B",
      "include_colab_link": true
    },
    "kernelspec": {
      "name": "python3",
      "display_name": "Python 3"
    },
    "language_info": {
      "name": "python"
    }
  },
  "cells": [
    {
      "cell_type": "markdown",
      "metadata": {
        "id": "view-in-github",
        "colab_type": "text"
      },
      "source": [
        "<a href=\"https://colab.research.google.com/github/outerspaceotter/GOGOLOOK_TEST/blob/master/Untitled0.ipynb\" target=\"_parent\"><img src=\"https://colab.research.google.com/assets/colab-badge.svg\" alt=\"Open In Colab\"/></a>"
      ]
    },
    {
      "cell_type": "code",
      "execution_count": null,
      "metadata": {
        "id": "GGosAYDByIBj"
      },
      "outputs": [],
      "source": [
        "#scikit-learn\n",
        "#https://scikit-learn.org/stable\n",
        "import pandas as pd\n",
        "from sklearn.datasets import load_iris\n",
        "iris = load_iris()\n",
        "df = pd.DataFrame(iris[\"data\"],columns=iris[\"feature_names\"])\n",
        "df[\"ans\"] = iris[\"target\"]\n",
        "df"
      ]
    },
    {
      "cell_type": "code",
      "source": [
        "# train_test_split 會保持成對關係\n",
        "from sklearn.model_selection import train_test_split\n",
        "import numpy as np\n",
        "train_test_split([1,2,3,4],\n",
        "         [5,6,7,8],\n",
        "         [9,10,11,12],\n",
        "         test_size=0.25)\n",
        "# 丟到模型前用:pandas \n",
        "# 丟到模型時:numpy 避免遇到資料格式問題，跑模型時容易出問題\n",
        "y = np.array(df[\"ans\"])\n",
        "x = np.array(df.drop(\"ans\", axis=1))\n",
        "# 一般來說會9:1 or 8:2 比例切資料\n",
        "x_train, x_test, y_train, y_test = train_test_split(x, y, test_size=0.1)"
      ],
      "metadata": {
        "id": "Phr-9Gj75OUT"
      },
      "execution_count": 21,
      "outputs": []
    },
    {
      "cell_type": "code",
      "source": [],
      "metadata": {
        "id": "muYJl2_k557k"
      },
      "execution_count": null,
      "outputs": []
    },
    {
      "cell_type": "code",
      "source": [],
      "metadata": {
        "id": "Z2lgrHnB5t2t"
      },
      "execution_count": null,
      "outputs": []
    }
  ]
}